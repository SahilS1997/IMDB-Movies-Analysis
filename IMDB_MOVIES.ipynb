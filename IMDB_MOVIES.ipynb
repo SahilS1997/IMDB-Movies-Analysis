{
  "nbformat": 4,
  "nbformat_minor": 0,
  "metadata": {
    "colab": {
      "name": "IMDB_MOVIES",
      "provenance": [],
      "authorship_tag": "ABX9TyMkLGi7s/yMi2SowJtxEMy1",
      "include_colab_link": true
    },
    "kernelspec": {
      "name": "python3",
      "display_name": "Python 3"
    },
    "language_info": {
      "name": "python"
    }
  },
  "cells": [
    {
      "cell_type": "markdown",
      "metadata": {
        "id": "view-in-github",
        "colab_type": "text"
      },
      "source": [
        "<a href=\"https://colab.research.google.com/github/SahilS1997/IMDB-Movies-Analysis/blob/main/IMDB_MOVIES.ipynb\" target=\"_parent\"><img src=\"https://colab.research.google.com/assets/colab-badge.svg\" alt=\"Open In Colab\"/></a>"
      ]
    },
    {
      "cell_type": "markdown",
      "metadata": {
        "id": "2-uc58dWLrGq"
      },
      "source": [
        "#Import Packages"
      ]
    },
    {
      "cell_type": "code",
      "metadata": {
        "id": "9nEiylfILJMs"
      },
      "source": [
        "import requests\n",
        "from bs4 import BeautifulSoup\n",
        "import pandas as pd\n",
        "import time\n",
        "from IPython.display import clear_output"
      ],
      "execution_count": null,
      "outputs": []
    },
    {
      "cell_type": "markdown",
      "metadata": {
        "id": "FoFEmZQ5L7O_"
      },
      "source": [
        "#Scrappping Data"
      ]
    },
    {
      "cell_type": "code",
      "metadata": {
        "id": "XFHqHk41L7ZQ",
        "colab": {
          "base_uri": "https://localhost:8080/"
        },
        "collapsed": true,
        "outputId": "bfbf02ec-4267-4238-e57e-1be0f097537b"
      },
      "source": [
        "base_url='https://www.imdb.com/search/title/?release_date=2021-01-01,2021-12-31&sort=num_votes,desc&start='\n",
        "fname=[]\n",
        "yr=[]\n",
        "crtfct=[]\n",
        "dur=[]\n",
        "genre=[]\n",
        "rating=[]\n",
        "metad=[]\n",
        "votes=[]\n",
        "\n",
        "for i in range(1,501,51):\n",
        "  time.sleep(2)\n",
        "  print(f'SCrapping {i} Movies Data')\n",
        "  clear_output(wait=True) \n",
        "  req=requests.get(base_url+str(i)+'&ref_=adv_nxt',headers={'Accept-Language':'en-US,en;q=0.5'})\n",
        "  soup=BeautifulSoup(req.text,'html')\n",
        "  \n",
        "  # Obtain each movie in a list\n",
        "  movies=soup.findAll('div',attrs={'class':'lister-item-content'})\n",
        "  # Apply loop\n",
        "  for movi in movies:\n",
        " \n",
        " \n",
        "    # Name of movie\n",
        "    mov_name=movi.find('h3',attrs={'class':'lister-item-header'}).a.text\n",
        "    fname.append(mov_name)\n",
        " \n",
        " \n",
        "    # Year of release\n",
        "    year=movi.find('span',attrs={'class':'lister-item-year text-muted unbold'}).text\n",
        "    yr.append(year)\n",
        " \n",
        "    #Certificate\n",
        "    certi=movi.find('span',attrs={'class':'certificate'})\n",
        "    if certi is None:\n",
        "      crtfct.append('No data')\n",
        "    else:\n",
        "      crtfct.append(certi.text)\n",
        " \n",
        "    # Duration of film\n",
        "    duration=movi.find('span',attrs={'class':'runtime'}) \n",
        "    if duration is None:\n",
        "      dur.append('No data') \n",
        "    else:\n",
        "      dur.append(duration.text)\n",
        " \n",
        "    #Genre\n",
        "    gen=movi.find('span',attrs={'class':'genre'}).text.strip()\n",
        "    genre.append(gen) \n",
        " \n",
        "    # Rate\n",
        "    ra=movi.find('div',attrs={'class':'inline-block ratings-imdb-rating'}).strong.text\n",
        "    rating.append(ra)\n",
        " \n",
        "    # Metascore\n",
        "    meta=movi.find('span',attrs={'class':'metascore'})\n",
        "    if meta is None:\n",
        "      metad.append('No data')\n",
        "    else:\n",
        "      metad.append(meta.text)\n",
        " \n",
        " \n",
        "    # Votes  \n",
        "    vote=movi.find('span',attrs={'name':'nv'}).text\n",
        "    votes.append(vote)"
      ],
      "execution_count": null,
      "outputs": [
        {
          "output_type": "stream",
          "text": [
            "SCrapping 460 Movies Data\n"
          ],
          "name": "stdout"
        }
      ]
    },
    {
      "cell_type": "code",
      "metadata": {
        "colab": {
          "base_uri": "https://localhost:8080/",
          "height": 419
        },
        "id": "UQmIVpI1Reh0",
        "outputId": "d3898e07-3b23-4940-da32-5f7a7637fc10"
      },
      "source": [
        "data=pd.DataFrame({'name':fname,'year':yr,'certifi':crtfct,'time':dur,'Genre':genre,'Vote':votes,'Metascore':metad,'Rating':rating})\n",
        "data\n"
      ],
      "execution_count": null,
      "outputs": [
        {
          "output_type": "execute_result",
          "data": {
            "text/html": [
              "<div>\n",
              "<style scoped>\n",
              "    .dataframe tbody tr th:only-of-type {\n",
              "        vertical-align: middle;\n",
              "    }\n",
              "\n",
              "    .dataframe tbody tr th {\n",
              "        vertical-align: top;\n",
              "    }\n",
              "\n",
              "    .dataframe thead th {\n",
              "        text-align: right;\n",
              "    }\n",
              "</style>\n",
              "<table border=\"1\" class=\"dataframe\">\n",
              "  <thead>\n",
              "    <tr style=\"text-align: right;\">\n",
              "      <th></th>\n",
              "      <th>name</th>\n",
              "      <th>year</th>\n",
              "      <th>certifi</th>\n",
              "      <th>time</th>\n",
              "      <th>Genre</th>\n",
              "      <th>Vote</th>\n",
              "      <th>Metascore</th>\n",
              "      <th>Rating</th>\n",
              "    </tr>\n",
              "  </thead>\n",
              "  <tbody>\n",
              "    <tr>\n",
              "      <th>0</th>\n",
              "      <td>Zack Snyder's Justice League</td>\n",
              "      <td>(2021)</td>\n",
              "      <td>R</td>\n",
              "      <td>242 min</td>\n",
              "      <td>Action, Adventure, Fantasy</td>\n",
              "      <td>310,536</td>\n",
              "      <td>54</td>\n",
              "      <td>8.1</td>\n",
              "    </tr>\n",
              "    <tr>\n",
              "      <th>1</th>\n",
              "      <td>Aspirants</td>\n",
              "      <td>(2021– )</td>\n",
              "      <td>No data</td>\n",
              "      <td>45 min</td>\n",
              "      <td>Drama</td>\n",
              "      <td>273,167</td>\n",
              "      <td>No data</td>\n",
              "      <td>9.7</td>\n",
              "    </tr>\n",
              "    <tr>\n",
              "      <th>2</th>\n",
              "      <td>WandaVision</td>\n",
              "      <td>(2021)</td>\n",
              "      <td>TV-PG</td>\n",
              "      <td>350 min</td>\n",
              "      <td>Action, Comedy, Drama</td>\n",
              "      <td>191,869</td>\n",
              "      <td>No data</td>\n",
              "      <td>8.0</td>\n",
              "    </tr>\n",
              "    <tr>\n",
              "      <th>3</th>\n",
              "      <td>Radhe</td>\n",
              "      <td>(2021)</td>\n",
              "      <td>TV-MA</td>\n",
              "      <td>135 min</td>\n",
              "      <td>Action, Crime, Thriller</td>\n",
              "      <td>164,092</td>\n",
              "      <td>No data</td>\n",
              "      <td>1.8</td>\n",
              "    </tr>\n",
              "    <tr>\n",
              "      <th>4</th>\n",
              "      <td>Godzilla vs. Kong</td>\n",
              "      <td>(2021)</td>\n",
              "      <td>PG-13</td>\n",
              "      <td>113 min</td>\n",
              "      <td>Action, Sci-Fi, Thriller</td>\n",
              "      <td>150,853</td>\n",
              "      <td>59</td>\n",
              "      <td>6.4</td>\n",
              "    </tr>\n",
              "    <tr>\n",
              "      <th>...</th>\n",
              "      <td>...</td>\n",
              "      <td>...</td>\n",
              "      <td>...</td>\n",
              "      <td>...</td>\n",
              "      <td>...</td>\n",
              "      <td>...</td>\n",
              "      <td>...</td>\n",
              "      <td>...</td>\n",
              "    </tr>\n",
              "    <tr>\n",
              "      <th>495</th>\n",
              "      <td>Last Chance U: Basketball</td>\n",
              "      <td>(2021– )</td>\n",
              "      <td>TV-MA</td>\n",
              "      <td>No data</td>\n",
              "      <td>Documentary, Sport</td>\n",
              "      <td>1,881</td>\n",
              "      <td>No data</td>\n",
              "      <td>8.4</td>\n",
              "    </tr>\n",
              "    <tr>\n",
              "      <th>496</th>\n",
              "      <td>The Frog</td>\n",
              "      <td>(2020–2021)</td>\n",
              "      <td>Not Rated</td>\n",
              "      <td>48 min</td>\n",
              "      <td>Crime, Drama, Mystery</td>\n",
              "      <td>1,880</td>\n",
              "      <td>No data</td>\n",
              "      <td>7.6</td>\n",
              "    </tr>\n",
              "    <tr>\n",
              "      <th>497</th>\n",
              "      <td>Gibi</td>\n",
              "      <td>(2021– )</td>\n",
              "      <td>No data</td>\n",
              "      <td>30 min</td>\n",
              "      <td>Comedy</td>\n",
              "      <td>1,878</td>\n",
              "      <td>No data</td>\n",
              "      <td>8.5</td>\n",
              "    </tr>\n",
              "    <tr>\n",
              "      <th>498</th>\n",
              "      <td>Mai Hero Boll Raha Hu</td>\n",
              "      <td>(2021– )</td>\n",
              "      <td>No data</td>\n",
              "      <td>No data</td>\n",
              "      <td>Action, Thriller</td>\n",
              "      <td>1,870</td>\n",
              "      <td>No data</td>\n",
              "      <td>8.9</td>\n",
              "    </tr>\n",
              "    <tr>\n",
              "      <th>499</th>\n",
              "      <td>B.A. Pass 3</td>\n",
              "      <td>(2021)</td>\n",
              "      <td>No data</td>\n",
              "      <td>136 min</td>\n",
              "      <td>Drama, Romance</td>\n",
              "      <td>1,867</td>\n",
              "      <td>No data</td>\n",
              "      <td>8.1</td>\n",
              "    </tr>\n",
              "  </tbody>\n",
              "</table>\n",
              "<p>500 rows × 8 columns</p>\n",
              "</div>"
            ],
            "text/plain": [
              "                             name         year  ...   Metascore Rating\n",
              "0    Zack Snyder's Justice League       (2021)  ...  54            8.1\n",
              "1                       Aspirants     (2021– )  ...     No data    9.7\n",
              "2                     WandaVision       (2021)  ...     No data    8.0\n",
              "3                           Radhe       (2021)  ...     No data    1.8\n",
              "4               Godzilla vs. Kong       (2021)  ...  59            6.4\n",
              "..                            ...          ...  ...         ...    ...\n",
              "495     Last Chance U: Basketball     (2021– )  ...     No data    8.4\n",
              "496                      The Frog  (2020–2021)  ...     No data    7.6\n",
              "497                          Gibi     (2021– )  ...     No data    8.5\n",
              "498         Mai Hero Boll Raha Hu     (2021– )  ...     No data    8.9\n",
              "499                   B.A. Pass 3       (2021)  ...     No data    8.1\n",
              "\n",
              "[500 rows x 8 columns]"
            ]
          },
          "metadata": {
            "tags": []
          },
          "execution_count": 27
        }
      ]
    }
  ]
}